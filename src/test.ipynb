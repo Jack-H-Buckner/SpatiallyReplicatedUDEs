{
 "cells": [
  {
   "cell_type": "code",
   "execution_count": 1,
   "metadata": {},
   "outputs": [
    {
     "data": {
      "text/html": [
       "<div><div style = \"float: left;\"><span>4×4 DataFrame</span></div><div style = \"clear: both;\"></div></div><div class = \"data-frame\" style = \"overflow-x: scroll;\"><table class = \"data-frame\" style = \"margin-bottom: 6px;\"><thead><tr class = \"header\"><th class = \"rowNumber\" style = \"font-weight: bold; text-align: right;\">Row</th><th style = \"text-align: left;\">series</th><th style = \"text-align: left;\">time</th><th style = \"text-align: left;\">juv</th><th style = \"text-align: left;\">adult</th></tr><tr class = \"subheader headerLastRow\"><th class = \"rowNumber\" style = \"font-weight: bold; text-align: right;\"></th><th title = \"Int64\" style = \"text-align: left;\">Int64</th><th title = \"Int64\" style = \"text-align: left;\">Int64</th><th title = \"Float64\" style = \"text-align: left;\">Float64</th><th title = \"Float64\" style = \"text-align: left;\">Float64</th></tr></thead><tbody><tr><td class = \"rowNumber\" style = \"font-weight: bold; text-align: right;\">1</td><td style = \"text-align: right;\">1</td><td style = \"text-align: right;\">-76</td><td style = \"text-align: right;\">0.311603</td><td style = \"text-align: right;\">0.428144</td></tr><tr><td class = \"rowNumber\" style = \"font-weight: bold; text-align: right;\">2</td><td style = \"text-align: right;\">2</td><td style = \"text-align: right;\">-76</td><td style = \"text-align: right;\">-1.63927</td><td style = \"text-align: right;\">-0.65074</td></tr><tr><td class = \"rowNumber\" style = \"font-weight: bold; text-align: right;\">3</td><td style = \"text-align: right;\">3</td><td style = \"text-align: right;\">-76</td><td style = \"text-align: right;\">0.219438</td><td style = \"text-align: right;\">0.440997</td></tr><tr><td class = \"rowNumber\" style = \"font-weight: bold; text-align: right;\">4</td><td style = \"text-align: right;\">4</td><td style = \"text-align: right;\">-76</td><td style = \"text-align: right;\">0.385844</td><td style = \"text-align: right;\">0.289797</td></tr></tbody></table></div>"
      ],
      "text/latex": [
       "\\begin{tabular}{r|cccc}\n",
       "\t& series & time & juv & adult\\\\\n",
       "\t\\hline\n",
       "\t& Int64 & Int64 & Float64 & Float64\\\\\n",
       "\t\\hline\n",
       "\t1 & 1 & -76 & 0.311603 & 0.428144 \\\\\n",
       "\t2 & 2 & -76 & -1.63927 & -0.65074 \\\\\n",
       "\t3 & 3 & -76 & 0.219438 & 0.440997 \\\\\n",
       "\t4 & 4 & -76 & 0.385844 & 0.289797 \\\\\n",
       "\\end{tabular}\n"
      ],
      "text/plain": [
       "\u001b[1m4×4 DataFrame\u001b[0m\n",
       "\u001b[1m Row \u001b[0m│\u001b[1m series \u001b[0m\u001b[1m time  \u001b[0m\u001b[1m juv       \u001b[0m\u001b[1m adult     \u001b[0m\n",
       "     │\u001b[90m Int64  \u001b[0m\u001b[90m Int64 \u001b[0m\u001b[90m Float64   \u001b[0m\u001b[90m Float64   \u001b[0m\n",
       "─────┼─────────────────────────────────────\n",
       "   1 │      1    -76   0.311603   0.428144\n",
       "   2 │      2    -76  -1.63927   -0.65074\n",
       "   3 │      3    -76   0.219438   0.440997\n",
       "   4 │      4    -76   0.385844   0.289797"
      ]
     },
     "metadata": {},
     "output_type": "display_data"
    }
   ],
   "source": [
    "using CSV, DataFrames\n",
    "\n",
    "forecast = CSV.read(string(\"../results/covariates/forecasts_1.csv\"), DataFrame)\n",
    "testing = CSV.read(string(\"../results/covariates/testing_data_1.csv\"), DataFrame)\n",
    "forecast.time .= 77 .- forecast.time .-77\n",
    "testing.time .= 77 .- testing.time\n",
    "forecast[1:4,:]"
   ]
  },
  {
   "cell_type": "code",
   "execution_count": 4,
   "metadata": {},
   "outputs": [
    {
     "data": {
      "text/html": [
       "<div><div style = \"float: left;\"><span>161×4 DataFrame</span></div><div style = \"float: right;\"><span style = \"font-style: italic;\">136 rows omitted</span></div><div style = \"clear: both;\"></div></div><div class = \"data-frame\" style = \"overflow-x: scroll;\"><table class = \"data-frame\" style = \"margin-bottom: 6px;\"><thead><tr class = \"header\"><th class = \"rowNumber\" style = \"font-weight: bold; text-align: right;\">Row</th><th style = \"text-align: left;\">PERIOD</th><th style = \"text-align: left;\">SITE</th><th style = \"text-align: left;\">MacJuv</th><th style = \"text-align: left;\">MacPyr</th></tr><tr class = \"subheader headerLastRow\"><th class = \"rowNumber\" style = \"font-weight: bold; text-align: right;\"></th><th title = \"Int64\" style = \"text-align: left;\">Int64</th><th title = \"Int64\" style = \"text-align: left;\">Int64</th><th title = \"Float64\" style = \"text-align: left;\">Float64</th><th title = \"Float64\" style = \"text-align: left;\">Float64</th></tr></thead><tbody><tr><td class = \"rowNumber\" style = \"font-weight: bold; text-align: right;\">1</td><td style = \"text-align: right;\">1</td><td style = \"text-align: right;\">1</td><td style = \"text-align: right;\">-1.0498</td><td style = \"text-align: right;\">-0.197155</td></tr><tr><td class = \"rowNumber\" style = \"font-weight: bold; text-align: right;\">2</td><td style = \"text-align: right;\">1</td><td style = \"text-align: right;\">2</td><td style = \"text-align: right;\">-0.0421156</td><td style = \"text-align: right;\">-0.394327</td></tr><tr><td class = \"rowNumber\" style = \"font-weight: bold; text-align: right;\">3</td><td style = \"text-align: right;\">1</td><td style = \"text-align: right;\">3</td><td style = \"text-align: right;\">0.377395</td><td style = \"text-align: right;\">0.211176</td></tr><tr><td class = \"rowNumber\" style = \"font-weight: bold; text-align: right;\">4</td><td style = \"text-align: right;\">1</td><td style = \"text-align: right;\">4</td><td style = \"text-align: right;\">-1.28535</td><td style = \"text-align: right;\">-0.113676</td></tr><tr><td class = \"rowNumber\" style = \"font-weight: bold; text-align: right;\">5</td><td style = \"text-align: right;\">1</td><td style = \"text-align: right;\">5</td><td style = \"text-align: right;\">-1.28535</td><td style = \"text-align: right;\">0.558295</td></tr><tr><td class = \"rowNumber\" style = \"font-weight: bold; text-align: right;\">6</td><td style = \"text-align: right;\">1</td><td style = \"text-align: right;\">6</td><td style = \"text-align: right;\">-0.480005</td><td style = \"text-align: right;\">-0.113676</td></tr><tr><td class = \"rowNumber\" style = \"font-weight: bold; text-align: right;\">7</td><td style = \"text-align: right;\">2</td><td style = \"text-align: right;\">1</td><td style = \"text-align: right;\">1.13968</td><td style = \"text-align: right;\">-0.513687</td></tr><tr><td class = \"rowNumber\" style = \"font-weight: bold; text-align: right;\">8</td><td style = \"text-align: right;\">2</td><td style = \"text-align: right;\">2</td><td style = \"text-align: right;\">1.53107</td><td style = \"text-align: right;\">-1.03003</td></tr><tr><td class = \"rowNumber\" style = \"font-weight: bold; text-align: right;\">9</td><td style = \"text-align: right;\">2</td><td style = \"text-align: right;\">3</td><td style = \"text-align: right;\">1.23051</td><td style = \"text-align: right;\">-0.289929</td></tr><tr><td class = \"rowNumber\" style = \"font-weight: bold; text-align: right;\">10</td><td style = \"text-align: right;\">2</td><td style = \"text-align: right;\">4</td><td style = \"text-align: right;\">0.483311</td><td style = \"text-align: right;\">-0.653027</td></tr><tr><td class = \"rowNumber\" style = \"font-weight: bold; text-align: right;\">11</td><td style = \"text-align: right;\">2</td><td style = \"text-align: right;\">5</td><td style = \"text-align: right;\">1.38703</td><td style = \"text-align: right;\">0.126279</td></tr><tr><td class = \"rowNumber\" style = \"font-weight: bold; text-align: right;\">12</td><td style = \"text-align: right;\">2</td><td style = \"text-align: right;\">6</td><td style = \"text-align: right;\">-0.197958</td><td style = \"text-align: right;\">-0.0748736</td></tr><tr><td class = \"rowNumber\" style = \"font-weight: bold; text-align: right;\">13</td><td style = \"text-align: right;\">3</td><td style = \"text-align: right;\">1</td><td style = \"text-align: right;\">0.892856</td><td style = \"text-align: right;\">0.959151</td></tr><tr><td style = \"text-align: right;\">&vellip;</td><td style = \"text-align: right;\">&vellip;</td><td style = \"text-align: right;\">&vellip;</td><td style = \"text-align: right;\">&vellip;</td><td style = \"text-align: right;\">&vellip;</td></tr><tr><td class = \"rowNumber\" style = \"font-weight: bold; text-align: right;\">150</td><td style = \"text-align: right;\">28</td><td style = \"text-align: right;\">1</td><td style = \"text-align: right;\">-1.28535</td><td style = \"text-align: right;\">-2.07495</td></tr><tr><td class = \"rowNumber\" style = \"font-weight: bold; text-align: right;\">151</td><td style = \"text-align: right;\">28</td><td style = \"text-align: right;\">2</td><td style = \"text-align: right;\">1.75357</td><td style = \"text-align: right;\">0.593054</td></tr><tr><td class = \"rowNumber\" style = \"font-weight: bold; text-align: right;\">152</td><td style = \"text-align: right;\">28</td><td style = \"text-align: right;\">3</td><td style = \"text-align: right;\">1.01561</td><td style = \"text-align: right;\">0.841477</td></tr><tr><td class = \"rowNumber\" style = \"font-weight: bold; text-align: right;\">153</td><td style = \"text-align: right;\">28</td><td style = \"text-align: right;\">4</td><td style = \"text-align: right;\">-0.753044</td><td style = \"text-align: right;\">-0.0022975</td></tr><tr><td class = \"rowNumber\" style = \"font-weight: bold; text-align: right;\">154</td><td style = \"text-align: right;\">28</td><td style = \"text-align: right;\">5</td><td style = \"text-align: right;\">-0.350374</td><td style = \"text-align: right;\">0.575856</td></tr><tr><td class = \"rowNumber\" style = \"font-weight: bold; text-align: right;\">155</td><td style = \"text-align: right;\">28</td><td style = \"text-align: right;\">6</td><td style = \"text-align: right;\">-1.28535</td><td style = \"text-align: right;\">-0.918649</td></tr><tr><td class = \"rowNumber\" style = \"font-weight: bold; text-align: right;\">156</td><td style = \"text-align: right;\">29</td><td style = \"text-align: right;\">1</td><td style = \"text-align: right;\">-1.28535</td><td style = \"text-align: right;\">-2.07495</td></tr><tr><td class = \"rowNumber\" style = \"font-weight: bold; text-align: right;\">157</td><td style = \"text-align: right;\">29</td><td style = \"text-align: right;\">2</td><td style = \"text-align: right;\">-0.882675</td><td style = \"text-align: right;\">0.719196</td></tr><tr><td class = \"rowNumber\" style = \"font-weight: bold; text-align: right;\">158</td><td style = \"text-align: right;\">29</td><td style = \"text-align: right;\">3</td><td style = \"text-align: right;\">-1.28535</td><td style = \"text-align: right;\">0.358754</td></tr><tr><td class = \"rowNumber\" style = \"font-weight: bold; text-align: right;\">159</td><td style = \"text-align: right;\">29</td><td style = \"text-align: right;\">4</td><td style = \"text-align: right;\">0.440259</td><td style = \"text-align: right;\">-0.451874</td></tr><tr><td class = \"rowNumber\" style = \"font-weight: bold; text-align: right;\">160</td><td style = \"text-align: right;\">29</td><td style = \"text-align: right;\">5</td><td style = \"text-align: right;\">-0.350374</td><td style = \"text-align: right;\">0.211176</td></tr><tr><td class = \"rowNumber\" style = \"font-weight: bold; text-align: right;\">161</td><td style = \"text-align: right;\">29</td><td style = \"text-align: right;\">6</td><td style = \"text-align: right;\">-0.557577</td><td style = \"text-align: right;\">-0.580451</td></tr></tbody></table></div>"
      ],
      "text/latex": [
       "\\begin{tabular}{r|cccc}\n",
       "\t& PERIOD & SITE & MacJuv & MacPyr\\\\\n",
       "\t\\hline\n",
       "\t& Int64 & Int64 & Float64 & Float64\\\\\n",
       "\t\\hline\n",
       "\t1 & 1 & 1 & -1.0498 & -0.197155 \\\\\n",
       "\t2 & 1 & 2 & -0.0421156 & -0.394327 \\\\\n",
       "\t3 & 1 & 3 & 0.377395 & 0.211176 \\\\\n",
       "\t4 & 1 & 4 & -1.28535 & -0.113676 \\\\\n",
       "\t5 & 1 & 5 & -1.28535 & 0.558295 \\\\\n",
       "\t6 & 1 & 6 & -0.480005 & -0.113676 \\\\\n",
       "\t7 & 2 & 1 & 1.13968 & -0.513687 \\\\\n",
       "\t8 & 2 & 2 & 1.53107 & -1.03003 \\\\\n",
       "\t9 & 2 & 3 & 1.23051 & -0.289929 \\\\\n",
       "\t10 & 2 & 4 & 0.483311 & -0.653027 \\\\\n",
       "\t11 & 2 & 5 & 1.38703 & 0.126279 \\\\\n",
       "\t12 & 2 & 6 & -0.197958 & -0.0748736 \\\\\n",
       "\t13 & 3 & 1 & 0.892856 & 0.959151 \\\\\n",
       "\t14 & 3 & 2 & 1.43465 & 0.914054 \\\\\n",
       "\t15 & 3 & 3 & 0.85033 & 0.155549 \\\\\n",
       "\t16 & 3 & 4 & 0.584598 & 0.747961 \\\\\n",
       "\t17 & 3 & 5 & 1.4635 & 0.948103 \\\\\n",
       "\t18 & 3 & 6 & 0.618448 & -0.0022975 \\\\\n",
       "\t19 & 4 & 1 & 0.268149 & 0.719196 \\\\\n",
       "\t20 & 4 & 2 & 1.04789 & 0.789329 \\\\\n",
       "\t21 & 4 & 3 & 1.03733 & 0.540357 \\\\\n",
       "\t22 & 4 & 4 & 0.204712 & 0.761979 \\\\\n",
       "\t23 & 4 & 5 & 0.728007 & 0.828743 \\\\\n",
       "\t24 & 4 & 6 & -0.154907 & 0.155549 \\\\\n",
       "\t$\\dots$ & $\\dots$ & $\\dots$ & $\\dots$ & $\\dots$ \\\\\n",
       "\\end{tabular}\n"
      ],
      "text/plain": [
       "\u001b[1m161×4 DataFrame\u001b[0m\n",
       "\u001b[1m Row \u001b[0m│\u001b[1m PERIOD \u001b[0m\u001b[1m SITE  \u001b[0m\u001b[1m MacJuv     \u001b[0m\u001b[1m MacPyr     \u001b[0m\n",
       "     │\u001b[90m Int64  \u001b[0m\u001b[90m Int64 \u001b[0m\u001b[90m Float64    \u001b[0m\u001b[90m Float64    \u001b[0m\n",
       "─────┼───────────────────────────────────────\n",
       "   1 │      1      1  -1.0498     -0.197155\n",
       "   2 │      1      2  -0.0421156  -0.394327\n",
       "   3 │      1      3   0.377395    0.211176\n",
       "   4 │      1      4  -1.28535    -0.113676\n",
       "   5 │      1      5  -1.28535     0.558295\n",
       "   6 │      1      6  -0.480005   -0.113676\n",
       "   7 │      2      1   1.13968    -0.513687\n",
       "   8 │      2      2   1.53107    -1.03003\n",
       "  ⋮  │   ⋮       ⋮        ⋮           ⋮\n",
       " 155 │     28      6  -1.28535    -0.918649\n",
       " 156 │     29      1  -1.28535    -2.07495\n",
       " 157 │     29      2  -0.882675    0.719196\n",
       " 158 │     29      3  -1.28535     0.358754\n",
       " 159 │     29      4   0.440259   -0.451874\n",
       " 160 │     29      5  -0.350374    0.211176\n",
       " 161 │     29      6  -0.557577   -0.580451\n",
       "\u001b[36m                             146 rows omitted\u001b[0m"
      ]
     },
     "metadata": {},
     "output_type": "display_data"
    }
   ],
   "source": [
    "dat = CSV.read(\"../data/processed_time_series.csv\", DataFrame)[:,2:end]\n",
    "\n",
    "dat[dat.PERIOD .< 30,:]"
   ]
  },
  {
   "cell_type": "code",
   "execution_count": null,
   "metadata": {},
   "outputs": [],
   "source": [
    "dat = innerjoin(forecast, testing, on = [:time,:series])\n"
   ]
  }
 ],
 "metadata": {
  "kernelspec": {
   "display_name": "Julia 1.10.5",
   "language": "julia",
   "name": "julia-1.10"
  },
  "language_info": {
   "file_extension": ".jl",
   "mimetype": "application/julia",
   "name": "julia",
   "version": "1.10.5"
  }
 },
 "nbformat": 4,
 "nbformat_minor": 2
}
